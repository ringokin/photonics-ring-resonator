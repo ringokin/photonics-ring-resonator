{
 "cells": [
  {
   "cell_type": "code",
   "execution_count": 3,
   "metadata": {},
   "outputs": [],
   "source": [
    "import numpy as np\n",
    "import matplotlib.pyplot as plt\n",
    "import matplotlib.ticker as tck\n",
    "import pandas as pd\n",
    "import sympy as sym\n",
    "from IPython.display import display, Math\n",
    "\n"
   ]
  },
  {
   "cell_type": "code",
   "execution_count": 8,
   "metadata": {},
   "outputs": [
    {
     "data": {
      "text/latex": [
       "$\\displaystyle Len = 20.7857~um$"
      ],
      "text/plain": [
       "<IPython.core.display.Math object>"
      ]
     },
     "metadata": {},
     "output_type": "display_data"
    },
    {
     "data": {
      "text/latex": [
       "$\\displaystyle Len/2 = 10.3929~um$"
      ],
      "text/plain": [
       "<IPython.core.display.Math object>"
      ]
     },
     "metadata": {},
     "output_type": "display_data"
    },
    {
     "data": {
      "text/latex": [
       "$\\displaystyle r^{2} = 0.9065$"
      ],
      "text/plain": [
       "<IPython.core.display.Math object>"
      ]
     },
     "metadata": {},
     "output_type": "display_data"
    },
    {
     "data": {
      "text/latex": [
       "$\\displaystyle k^{2} = 0.0935$"
      ],
      "text/plain": [
       "<IPython.core.display.Math object>"
      ]
     },
     "metadata": {},
     "output_type": "display_data"
    }
   ],
   "source": [
    "fsr = 25.6e-9\n",
    "fwhm = 0.8e-9\n",
    "ng = 4.515\n",
    "neff = 2.35425\n",
    "a = 1\n",
    "lmbdC = 1550e-9\n",
    "\n",
    "Len = lmbdC**2/(ng*fsr)\n",
    "x = fwhm*np.pi*ng*Len/(lmbdC**2)\n",
    "\n",
    "sym.init_printing()\n",
    "r = sym.symbols('r')\n",
    "func = sym.Eq((1-r)/(r**(1/2)),x)\n",
    "f = sym.solve([func],(r))\n",
    "r = f[0][0]\n",
    "\n",
    "k = 1-r\n",
    "r1 = r**(1/2)\n",
    "r2 = r**(1/2)\n",
    "\n",
    "display(Math('Len = %5.4f~um' %(Len*10**6)))\n",
    "display(Math('Len/2 = %5.4f~um' %((Len/2)*10**6)))\n",
    "display(Math('r^{2} = %5.4f' %(r)))\n",
    "display(Math('k^{2} = %5.4f' %(k)))"
   ]
  }
 ],
 "metadata": {
  "interpreter": {
   "hash": "7d71bb564173b1d1ba6fa19edd5b2e57090f0d1611e5a9e658c5957cb1219ca3"
  },
  "kernelspec": {
   "display_name": "Python 3.9.12 ('base')",
   "language": "python",
   "name": "python3"
  },
  "language_info": {
   "codemirror_mode": {
    "name": "ipython",
    "version": 3
   },
   "file_extension": ".py",
   "mimetype": "text/x-python",
   "name": "python",
   "nbconvert_exporter": "python",
   "pygments_lexer": "ipython3",
   "version": "3.9.12"
  },
  "orig_nbformat": 4
 },
 "nbformat": 4,
 "nbformat_minor": 2
}
