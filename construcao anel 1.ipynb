{
 "cells": [
  {
   "cell_type": "code",
   "execution_count": 1,
   "metadata": {},
   "outputs": [],
   "source": [
    "import os\n",
    "import imp\n",
    "import matplotlib.pyplot as plt\n",
    "import numpy as np\n",
    "import math\n",
    "import pandas as pd\n",
    "import sys\n",
    "import pickle as plk\n",
    "import importlib.util\n",
    "import struct\n",
    "\n",
    "###############################################################\n",
    "# LINUX PATH\n",
    "\n",
    "sys.path.append(\"/opt/lumerical/v221/api/python\") #Default linux lumapi path\n",
    "import lumapi\n",
    "sys.path.append(os.path.dirname('/home/trainner/Documentos/Vh/photonics-ring-resonator')) #Current directory\n",
    "\n",
    "###############################################################\n",
    "# WINDOWS PATH\n",
    "\n",
    "#spec_win = importlib.util.spec_from_file_location('lumapi', 'C:\\\\Program Files\\\\Lumerical\\\\v202\\\\api\\\\python\\\\lumapi.py')\n",
    "#lumapi = importlib.util.module_from_spec(spec_win)\n",
    "#os.add_dll_directory(\"C:/Program Files/Lumerical/v202/api/python\")\n",
    "#sys.path.append(os.path.dirname('C:/Users/Caio/Documents/GitHub/Photonics-training/Projects/Microring resonator/LumericalFiles/'))\n",
    "#spec_win.loader.exec_module(lumapi)"
   ]
  },
  {
   "cell_type": "code",
   "execution_count": 2,
   "metadata": {},
   "outputs": [],
   "source": [
    "lumR = lumapi.FDTD(filename='anel_lumerical.fsp',hide=False) "
   ]
  },
  {
   "cell_type": "code",
   "execution_count": 3,
   "metadata": {},
   "outputs": [],
   "source": [
    "\n",
    "def DeletarObj(nome, lum):\n",
    "    lum.select(nome)\n",
    "    lum.delete()\n",
    "\n",
    "\n",
    "def CriarRect(nome, Xmin, Xmax, Y, Yspan, Zmin, Zmax, material, lum):\n",
    "    \n",
    "    lum.addrect()\n",
    "    lum.set({\n",
    "        \"name\": nome,\n",
    "        \"x min\": Xmin,\"y\": Y,\"z min\": Zmin,\n",
    "        \"x max\": Xmax, \"y span\": Yspan, \"z max\": Zmax,\n",
    "        \"material\": material\n",
    "        })\n",
    "\n",
    "def altRect(nome, Xmin, Xmax, Y, Yspan, Zmin, Zmax, material, lum):\n",
    "    DeletarObj(nome, lum)\n",
    "    CriarRect(nome, Xmin, Xmax, Y, Yspan, Zmin, Zmax, material, lum)\n",
    "\n",
    "def altRect2(nome, X, Xspan, Y, Yspan, Z, Zspan, material, lum):\n",
    "    Xmin = X - (Xspan/2)\n",
    "    Xmax = X + (Xspan/2)\n",
    "    Zmin = Z - (Zspan/2)\n",
    "    Zmax = Z + (Zspan/2)\n",
    "    altRect(nome, Xmin, Xmax, Y, Yspan, Zmin, Zmax, material, lum)\n",
    "\n",
    "\n"
   ]
  },
  {
   "cell_type": "code",
   "execution_count": 4,
   "metadata": {},
   "outputs": [],
   "source": [
    "RingLen = 0 # Length of straight sections of the ring\n",
    "Radius = 3e-6 # Ring radius\n",
    "\n",
    "RingSpan = 10e-6 # Length of straight waveguides\n",
    "Gap = 150e-9 # Gap between waveguides and the ring\n",
    "\n",
    "WGHeight = 0.22e-6 # height of the waveguide\n",
    "WGWidth = 0.5e-6 # width of the waveguide base\n",
    "\n",
    "FPoints = 8        # Monitor frequency points"
   ]
  },
  {
   "cell_type": "code",
   "execution_count": 10,
   "metadata": {},
   "outputs": [
    {
     "data": {
      "text/plain": [
       "1.0"
      ]
     },
     "execution_count": 10,
     "metadata": {},
     "output_type": "execute_result"
    }
   ],
   "source": [
    "# lumR.switchtolayout()\n",
    "# lumR.selectall()\n",
    "# lumR.delete()\n",
    "DeletarObj(\"ring resonator\", lumR)\n",
    "lumR.addobject(\"ring_resonator\")\n",
    "lumR.set({\"x\":-RingSpan/2, \"y\":0, \"z\":0,\n",
    "          \"Lc\":RingLen,\n",
    "          \"x span\":RingSpan,\n",
    "          \"radius\":Radius,\n",
    "          \"gap\":Gap,\n",
    "          \"base height\":WGHeight,\n",
    "          \"base width\":WGWidth})\n",
    "\n",
    "lumR.setnamed(\"ring resonator::inner_bottom\",\"enabled\",0)\n",
    "lumR.setnamed(\"ring resonator::outer_bottom\",\"enabled\",0)\n",
    "lumR.setnamed(\"ring resonator::arc2\",\"enabled\",0)\n",
    "lumR.setnamed(\"ring resonator::arc3\",\"enabled\",0)\n",
    "\n",
    "altRect2(\"leg1\", -RingLen-Radius, WGWidth, -Radius/4, Radius/2, 0, WGHeight, \"Si (Silicon) - Palik\", lumR)\n",
    "altRect2(\"leg2\", RingLen+Radius, WGWidth, -Radius/4, Radius/2, 0, WGHeight, \"Si (Silicon) - Palik\", lumR)\n",
    "\n",
    "DeletarObj(\"FDTD\", lumR)\n",
    "lumR.addfdtd()\n",
    "lumR.set({\"x\":0, \"y\":0.5*(Radius+3*WGWidth+Gap - Radius/4), \"z\":0,\n",
    "          \"x span\":RingSpan, \"y span\":Radius+3*WGWidth+Gap+Radius/2, \"z span\":3*WGWidth,\n",
    "          \"background material\": \"SiO2 (Glass) - Palik\",\n",
    "          \"mesh accuracy\":4})\n",
    "\n",
    "lumR.addport()\n",
    "lumR.set({\"x\":-RingSpan/2.5, \"y\":Radius+WGWidth+Gap, \"z\":0,\n",
    "          \"y span\":4*WGWidth, \"z span\":2*WGWidth})\n",
    "lumR.addport()\n",
    "lumR.set({\"x\":RingSpan/2.5, \"y\":Radius+WGWidth+Gap, \"z\":0,\n",
    "          \"y span\":4*WGWidth, \"z span\":2*WGWidth,\n",
    "          \"direction\":'Backward'})\n",
    "lumR.addport()\n",
    "lumR.set({\"x\":-RingLen-Radius, \"y\":-Radius/4, \"z\":0,\n",
    "          \"injection axis\":'y-axis', \"x span\":4*WGWidth, \"z span\":2*WGWidth})\n",
    "lumR.addport()\n",
    "lumR.set({\"x\":RingLen+Radius, \"y\":-Radius/4, \"z\":0,\n",
    "          \"injection axis\":'y-axis', \"x span\":4*WGWidth, \"z span\":2*WGWidth})\n",
    "\n",
    "lumR.select('FDTD::ports')\n",
    "lumR.set('monitor frequency points',FPoints)\n",
    "\n",
    "lumR.setglobalsource(\"wavelength start\", 1.5e-6)\n",
    "lumR.setglobalsource(\"wavelength stop\", 1.6e-6)"
   ]
  },
  {
   "cell_type": "code",
   "execution_count": 12,
   "metadata": {},
   "outputs": [],
   "source": [
    "# Sweep configs\n",
    "FPoints = 8        # Monitor frequency points\n",
    "SPoints = 5       # Sweep points\n",
    "SRange = [2,6]  # Sweep range\n",
    "Name = \"Mesh_sweep\"\n",
    "\n",
    "# Sweep creation\n",
    "lumR.deletesweep(Name)\n",
    "lumR.addsweep(0)\n",
    "lumR.setsweep(\"sweep\",\"name\",Name)\n",
    "lumR.setsweep(Name,\"type\",\"Ranges\")\n",
    "lumR.setsweep(Name,\"number of points\",SPoints)\n",
    "\n",
    "MeshParameter = {\"Name\":\"Mesh accuracy\", \"Type\":\"Number\",\n",
    "               \"Parameter\":\"::model::FDTD::mesh accuracy\",\n",
    "               \"Start\":SRange[0], \"Stop\":SRange[1]}\n",
    "\n",
    "Transmission_In = {\"Name\":\"Transmission In\",\n",
    "                   \"Result\":\"::model::FDTD::ports::port 1::T\"}\n",
    "Transmission_Pass = {\"Name\":\"Transmission Pass\",\n",
    "                     \"Result\":\"::model::FDTD::ports::port 2::T\"}\n",
    "Transmission_Drop = {\"Name\":\"Transmission Drop\",\n",
    "                     \"Result\":\"::model::FDTD::ports::port 4::T\"}\n",
    "\n",
    "lumR.addsweepparameter(Name,MeshParameter)\n",
    "lumR.addsweepresult(Name,Transmission_In)\n",
    "lumR.addsweepresult(Name,Transmission_Pass)\n",
    "lumR.addsweepresult(Name,Transmission_Drop)\n",
    "\n",
    "lumR.select('FDTD::ports')\n",
    "lumR.set('monitor frequency points',FPoints)"
   ]
  },
  {
   "cell_type": "code",
   "execution_count": 13,
   "metadata": {},
   "outputs": [
    {
     "name": "stdout",
     "output_type": "stream",
     "text": [
      "8\n"
     ]
    }
   ],
   "source": [
    "print(FPoints)"
   ]
  },
  {
   "cell_type": "code",
   "execution_count": null,
   "metadata": {},
   "outputs": [],
   "source": [
    "plt.plot()"
   ]
  }
 ],
 "metadata": {
  "interpreter": {
   "hash": "7d71bb564173b1d1ba6fa19edd5b2e57090f0d1611e5a9e658c5957cb1219ca3"
  },
  "kernelspec": {
   "display_name": "Python 3.9.12 ('base')",
   "language": "python",
   "name": "python3"
  },
  "language_info": {
   "codemirror_mode": {
    "name": "ipython",
    "version": 3
   },
   "file_extension": ".py",
   "mimetype": "text/x-python",
   "name": "python",
   "nbconvert_exporter": "python",
   "pygments_lexer": "ipython3",
   "version": "3.9.12"
  },
  "orig_nbformat": 4
 },
 "nbformat": 4,
 "nbformat_minor": 2
}
